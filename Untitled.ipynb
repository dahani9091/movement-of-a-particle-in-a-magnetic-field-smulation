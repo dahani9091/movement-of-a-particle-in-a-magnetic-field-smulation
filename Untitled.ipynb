{
 "cells": [
  {
   "cell_type": "code",
   "execution_count": 58,
   "metadata": {},
   "outputs": [],
   "source": [
    "from vpython import *"
   ]
  },
  {
   "cell_type": "code",
   "execution_count": 59,
   "metadata": {},
   "outputs": [],
   "source": [
    "#Constants\n",
    "mp=1.67e-27 #kg\n",
    "q=1.6e-19   #C (Coulomb) \n",
    "B=1e-5*vector(0,0,-1) #T  (Tesla)\n",
    "v0=30\n",
    "p0=mp*v0\n",
    "t=0\n",
    "dt=1e-6\n"
   ]
  },
  {
   "cell_type": "code",
   "execution_count": 60,
   "metadata": {},
   "outputs": [],
   "source": [
    "#initialise p (p=mv)\n",
    "px=p0\n",
    "py=0\n",
    "pz=p0\n",
    "#initialise position\n",
    "posX=1\n",
    "posY=0\n",
    "posZ=1"
   ]
  },
  {
   "cell_type": "code",
   "execution_count": null,
   "metadata": {},
   "outputs": [
    {
     "data": {
      "text/html": [
       "<div id=\"glowscript\" class=\"glowscript\"></div>"
      ],
      "text/plain": [
       "<IPython.core.display.HTML object>"
      ]
     },
     "metadata": {},
     "output_type": "display_data"
    },
    {
     "data": {
      "application/javascript": [
       "if (typeof Jupyter !== \"undefined\") { window.__context = { glowscript_container: $(\"#glowscript\").removeAttr(\"id\")};}else{ element.textContent = ' ';}"
      ],
      "text/plain": [
       "<IPython.core.display.Javascript object>"
      ]
     },
     "metadata": {},
     "output_type": "display_data"
    }
   ],
   "source": [
    "canvas()\n",
    "#create a proton\n",
    "proton=sphere(pos=vector(0,0,0), radius=0.0001, color=color.red, make_trail=True)\n",
    "proton.m=mp\n",
    "proton.p=p0*vector(0,1,1)\n",
    "#start simulations\n",
    "while True:\n",
    "  rate(1000)\n",
    "  #mis-à-jours de p\n",
    "  px = px +q*B.z*(py/mp)*dt\n",
    "  py = py -q*B.z*(px/mp)*dt\n",
    "  #pz ne varie pas\n",
    "  proton.p=vector(px,py,pz)\n",
    "  #mis-à-jours de vecteur de position\n",
    "  posX = posX + (q*B.z*posY + p0)*dt/mp\n",
    "  posY = posY - (q*B.z*posX)*dt/mp\n",
    "  posZ = posZ + v0*dt\n",
    "  proton.pos=vector(posX,posY,posZ)\n",
    "  t=t+dt"
   ]
  },
  {
   "cell_type": "code",
   "execution_count": null,
   "metadata": {},
   "outputs": [],
   "source": []
  }
 ],
 "metadata": {
  "kernelspec": {
   "display_name": "Python 3",
   "language": "python",
   "name": "python3"
  },
  "language_info": {
   "codemirror_mode": {
    "name": "ipython",
    "version": 3
   },
   "file_extension": ".py",
   "mimetype": "text/x-python",
   "name": "python",
   "nbconvert_exporter": "python",
   "pygments_lexer": "ipython3",
   "version": "3.8.5"
  }
 },
 "nbformat": 4,
 "nbformat_minor": 4
}
